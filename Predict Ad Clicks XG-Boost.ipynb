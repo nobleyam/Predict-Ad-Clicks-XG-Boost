{
 "cells": [
  {
   "cell_type": "markdown",
   "metadata": {},
   "source": [
    "\n",
    "\n",
    "\n",
    "**You have been hired as a consultant to a start-up that is running a targeted marketing ad campaign on Facebook. The company wants to analyze customer behaviour by predicting which customer clicks on the advertisement. Customer data is as follows:**\n",
    "\n",
    "### Inputs:\n",
    "  - Name\n",
    "  - e-mail\n",
    "  - Country\n",
    "  - Time on Facebook\n",
    "  - Estimated Salary (derived from other parameters)\n",
    "\n",
    "### Outputs:\n",
    "  - Click (1: customer clicked on Ad, 0: Customer did not click on the Ad)\n",
    "\n",
    "\n",
    "\n"
   ]
  },
  {
   "cell_type": "markdown",
   "metadata": {},
   "source": []
  }
 ],
 "metadata": {
  "language_info": {
   "name": "python"
  }
 },
 "nbformat": 4,
 "nbformat_minor": 2
}
